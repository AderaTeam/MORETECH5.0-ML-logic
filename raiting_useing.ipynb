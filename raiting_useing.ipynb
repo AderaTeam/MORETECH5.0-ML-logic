{
 "cells": [
  {
   "cell_type": "code",
   "execution_count": 134,
   "metadata": {},
   "outputs": [],
   "source": [
    "from sklearn.linear_model import Ridge\n",
    "from sklearn.tree import ExtraTreeRegressor\n",
    "from sklearn.preprocessing import PolynomialFeatures\n",
    "import pandas as pd\n",
    "from sklearn.model_selection import GridSearchCV, train_test_split\n",
    "from sklearn.metrics import r2_score, mean_squared_error\n",
    "from sklearn.preprocessing import StandardScaler, MinMaxScaler\n",
    "import numpy as np"
   ]
  },
  {
   "cell_type": "code",
   "execution_count": 135,
   "metadata": {},
   "outputs": [],
   "source": [
    "gpm = pd.read_csv('./datasets/googleplaystore.csv').dropna()\n",
    "gpm = gpm.loc[gpm['Installs'] != 'Free']"
   ]
  },
  {
   "cell_type": "code",
   "execution_count": 173,
   "metadata": {},
   "outputs": [
    {
     "data": {
      "text/plain": [
       "array(['10,000+', '500,000+', '5,000,000+', '50,000,000+', '100,000+',\n",
       "       '50,000+', '1,000,000+', '10,000,000+', '5,000+', '100,000,000+',\n",
       "       '1,000,000,000+', '1,000+', '500,000,000+', '100+', '500+', '10+',\n",
       "       '5+', '50+', '1+'], dtype=object)"
      ]
     },
     "execution_count": 173,
     "metadata": {},
     "output_type": "execute_result"
    }
   ],
   "source": [
    "gpm['Installs'].unique()"
   ]
  },
  {
   "cell_type": "code",
   "execution_count": 136,
   "metadata": {},
   "outputs": [
    {
     "data": {
      "text/html": [
       "<div>\n",
       "<style scoped>\n",
       "    .dataframe tbody tr th:only-of-type {\n",
       "        vertical-align: middle;\n",
       "    }\n",
       "\n",
       "    .dataframe tbody tr th {\n",
       "        vertical-align: top;\n",
       "    }\n",
       "\n",
       "    .dataframe thead th {\n",
       "        text-align: right;\n",
       "    }\n",
       "</style>\n",
       "<table border=\"1\" class=\"dataframe\">\n",
       "  <thead>\n",
       "    <tr style=\"text-align: right;\">\n",
       "      <th></th>\n",
       "      <th>Rating</th>\n",
       "      <th>Reviews</th>\n",
       "      <th>Installs</th>\n",
       "    </tr>\n",
       "  </thead>\n",
       "  <tbody>\n",
       "    <tr>\n",
       "      <th>0</th>\n",
       "      <td>0.775</td>\n",
       "      <td>0.000002</td>\n",
       "      <td>0.00001</td>\n",
       "    </tr>\n",
       "    <tr>\n",
       "      <th>1</th>\n",
       "      <td>0.725</td>\n",
       "      <td>0.000012</td>\n",
       "      <td>0.00050</td>\n",
       "    </tr>\n",
       "    <tr>\n",
       "      <th>2</th>\n",
       "      <td>0.925</td>\n",
       "      <td>0.001120</td>\n",
       "      <td>0.00500</td>\n",
       "    </tr>\n",
       "    <tr>\n",
       "      <th>3</th>\n",
       "      <td>0.875</td>\n",
       "      <td>0.002759</td>\n",
       "      <td>0.05000</td>\n",
       "    </tr>\n",
       "    <tr>\n",
       "      <th>4</th>\n",
       "      <td>0.825</td>\n",
       "      <td>0.000012</td>\n",
       "      <td>0.00010</td>\n",
       "    </tr>\n",
       "  </tbody>\n",
       "</table>\n",
       "</div>"
      ],
      "text/plain": [
       "   Rating   Reviews  Installs\n",
       "0   0.775  0.000002   0.00001\n",
       "1   0.725  0.000012   0.00050\n",
       "2   0.925  0.001120   0.00500\n",
       "3   0.875  0.002759   0.05000\n",
       "4   0.825  0.000012   0.00010"
      ]
     },
     "execution_count": 136,
     "metadata": {},
     "output_type": "execute_result"
    }
   ],
   "source": [
    "gps_t = pd.DataFrame()\n",
    "gps_t['Rating'] = gpm['Rating']\n",
    "gps_t['Reviews'] = gpm['Reviews'].apply(int)\n",
    "gps_t['Installs'] = gpm['Installs'].map(lambda a: int(a.replace('+', '').replace(',', '')))\n",
    "stdscaler = MinMaxScaler()\n",
    "gps_t = pd.DataFrame(stdscaler.fit_transform(gps_t), columns=gps_t.columns)\n",
    "gps_t.head()"
   ]
  },
  {
   "cell_type": "code",
   "execution_count": 137,
   "metadata": {},
   "outputs": [],
   "source": [
    "pf = PolynomialFeatures(5)"
   ]
  },
  {
   "cell_type": "code",
   "execution_count": 138,
   "metadata": {},
   "outputs": [],
   "source": [
    "d = pd.DataFrame({'Rating': gps_t['Rating'].to_numpy(), 'help': np.ones(gps_t.shape[0])})"
   ]
  },
  {
   "cell_type": "code",
   "execution_count": 139,
   "metadata": {},
   "outputs": [],
   "source": [
    "x_train, x_test, y_train, y_test = train_test_split(pf.fit_transform(d, gps_t['Installs']), gps_t['Installs'], stratify=gps_t['Installs'])"
   ]
  },
  {
   "cell_type": "code",
   "execution_count": 140,
   "metadata": {},
   "outputs": [
    {
     "name": "stderr",
     "output_type": "stream",
     "text": [
      "d:\\MoreTech5\\MoreTech\\lib\\site-packages\\sklearn\\model_selection\\_search.py:979: UserWarning: One or more of the test scores are non-finite: [nan nan nan nan nan nan nan nan nan nan nan nan nan nan nan nan nan nan\n",
      " nan nan nan nan nan nan nan nan nan nan nan nan nan nan nan nan nan nan\n",
      " nan nan nan nan nan nan nan nan nan nan nan nan nan nan nan nan nan nan\n",
      " nan nan nan nan nan nan nan nan nan nan nan nan nan nan nan nan nan nan\n",
      " nan nan nan nan nan nan nan nan nan nan nan nan nan nan nan nan nan nan\n",
      " nan nan nan nan nan nan nan nan nan]\n",
      "  warnings.warn(\n"
     ]
    }
   ],
   "source": [
    "raiting_checkout_pred = GridSearchCV(\n",
    "    scoring=mean_squared_error,\n",
    "    estimator=Ridge(), \n",
    "    param_grid={\n",
    "        'alpha': np.arange(0.00000001, 0.000001, 0.00000001),\n",
    "    },\n",
    "    n_jobs=4\n",
    ").fit(x_train, y_train)"
   ]
  },
  {
   "cell_type": "code",
   "execution_count": 141,
   "metadata": {},
   "outputs": [
    {
     "data": {
      "text/plain": [
       "1e-08"
      ]
     },
     "execution_count": 141,
     "metadata": {},
     "output_type": "execute_result"
    }
   ],
   "source": [
    "raiting_checkout_pred.best_estimator_.alpha"
   ]
  },
  {
   "cell_type": "code",
   "execution_count": 142,
   "metadata": {},
   "outputs": [
    {
     "data": {
      "text/plain": [
       "0.014068628516653137"
      ]
     },
     "execution_count": 142,
     "metadata": {},
     "output_type": "execute_result"
    }
   ],
   "source": [
    "r2_score(y_pred=raiting_checkout_pred.predict(x_test), y_true=y_test)"
   ]
  },
  {
   "cell_type": "code",
   "execution_count": 178,
   "metadata": {},
   "outputs": [
    {
     "name": "stderr",
     "output_type": "stream",
     "text": [
      "d:\\MoreTech5\\MoreTech\\lib\\site-packages\\sklearn\\model_selection\\_search.py:979: UserWarning: One or more of the test scores are non-finite: [nan nan nan nan nan nan nan nan nan nan nan nan nan nan nan nan nan nan\n",
      " nan nan nan nan nan nan]\n",
      "  warnings.warn(\n"
     ]
    }
   ],
   "source": [
    "raiting_checkout_pred_tree = GridSearchCV(\n",
    "    scoring=mean_squared_error,\n",
    "    estimator=ExtraTreeRegressor(), \n",
    "    param_grid={\n",
    "        'criterion': ['squared_error', 'friedman_mse', 'absolute_error', 'poisson'],\n",
    "        'max_depth': np.arange(2, 8)\n",
    "    },\n",
    "    n_jobs=4\n",
    ").fit(x_train, y_train)"
   ]
  },
  {
   "cell_type": "code",
   "execution_count": 179,
   "metadata": {},
   "outputs": [
    {
     "data": {
      "text/plain": [
       "'squared_error'"
      ]
     },
     "execution_count": 179,
     "metadata": {},
     "output_type": "execute_result"
    }
   ],
   "source": [
    "raiting_checkout_pred_tree.best_estimator_.criterion"
   ]
  },
  {
   "cell_type": "code",
   "execution_count": 180,
   "metadata": {},
   "outputs": [
    {
     "data": {
      "text/plain": [
       "0.018193126554762684"
      ]
     },
     "execution_count": 180,
     "metadata": {},
     "output_type": "execute_result"
    }
   ],
   "source": [
    "r2_score(y_pred=raiting_checkout_pred_tree.best_estimator_.predict(x_test), y_true=y_test)"
   ]
  },
  {
   "cell_type": "code",
   "execution_count": 181,
   "metadata": {},
   "outputs": [
    {
     "data": {
      "text/plain": [
       "(array([6923.,    0.,    0.,    0.,   54.,    0.,    0.,    0.,    0.,\n",
       "          43.]),\n",
       " array([0. , 0.1, 0.2, 0.3, 0.4, 0.5, 0.6, 0.7, 0.8, 0.9, 1. ]),\n",
       " <BarContainer object of 10 artists>)"
      ]
     },
     "execution_count": 181,
     "metadata": {},
     "output_type": "execute_result"
    },
    {
     "data": {
      "image/png": "[encoded data removed]",
      "text/plain": [
       "<Figure size 640x480 with 1 Axes>"
      ]
     },
     "metadata": {},
     "output_type": "display_data"
    }
   ],
   "source": [
    "import matplotlib.pyplot as plt\n",
    "plt.hist(raiting_checkout_pred_tree.best_estimator_.predict(x_train))\n",
    "plt.hist(y_train)"
   ]
  },
  {
   "cell_type": "code",
   "execution_count": 182,
   "metadata": {},
   "outputs": [
    {
     "data": {
      "text/plain": [
       "(array([1611.,    0., 1917.,    0., 2611.,    0.,    0.,    0.,    0.,\n",
       "        3221.]),\n",
       " array([0.00227713, 0.00526399, 0.00825086, 0.01123773, 0.01422459,\n",
       "        0.01721146, 0.02019832, 0.02318519, 0.02617206, 0.02915892,\n",
       "        0.03214579]),\n",
       " <BarContainer object of 10 artists>)"
      ]
     },
     "execution_count": 182,
     "metadata": {},
     "output_type": "execute_result"
    },
    {
     "data": {
      "image/png": "[encoded data removed]",
      "text/plain": [
       "<Figure size 640x480 with 1 Axes>"
      ]
     },
     "metadata": {},
     "output_type": "display_data"
    }
   ],
   "source": [
    "plt.hist(raiting_checkout_pred_tree.best_estimator_.predict(pf.transform(d)))"
   ]
  },
  {
   "cell_type": "code",
   "execution_count": 183,
   "metadata": {},
   "outputs": [
    {
     "data": {
      "text/plain": [
       "(array([9230.,    0.,    0.,    0.,   72.,    0.,    0.,    0.,    0.,\n",
       "          58.]),\n",
       " array([0. , 0.1, 0.2, 0.3, 0.4, 0.5, 0.6, 0.7, 0.8, 0.9, 1. ]),\n",
       " <BarContainer object of 10 artists>)"
      ]
     },
     "execution_count": 183,
     "metadata": {},
     "output_type": "execute_result"
    },
    {
     "data": {
      "image/png": "[encoded data removed]",
      "text/plain": [
       "<Figure size 640x480 with 1 Axes>"
      ]
     },
     "metadata": {},
     "output_type": "display_data"
    }
   ],
   "source": [
    "plt.hist(gps_t['Installs'],)"
   ]
  },
  {
   "cell_type": "code",
   "execution_count": 184,
   "metadata": {},
   "outputs": [
    {
     "data": {
      "text/plain": [
       "17928996440.54258"
      ]
     },
     "execution_count": 184,
     "metadata": {},
     "output_type": "execute_result"
    }
   ],
   "source": [
    "from sklearn.metrics import mean_absolute_percentage_error\n",
    "mean_absolute_percentage_error(y_pred=raiting_checkout_pred_tree.predict(x_test), y_true=y_test)"
   ]
  },
  {
   "cell_type": "code",
   "execution_count": 185,
   "metadata": {},
   "outputs": [],
   "source": [
    "import pickle\n",
    "import dill"
   ]
  },
  {
   "cell_type": "code",
   "execution_count": 186,
   "metadata": {},
   "outputs": [],
   "source": [
    "with open('models/raiting_check/pf.pkl', 'wb') as f:\n",
    "    pickle.dump(pf, f)"
   ]
  },
  {
   "cell_type": "code",
   "execution_count": 187,
   "metadata": {},
   "outputs": [],
   "source": [
    "with open('models/raiting_check/std_scaler_for_raiting.pkl', 'wb') as f:\n",
    "    pickle.dump(stdscaler, f)"
   ]
  },
  {
   "cell_type": "code",
   "execution_count": 188,
   "metadata": {},
   "outputs": [],
   "source": [
    "with open('models/raiting_check/raiting_checkout_pred_tree.pkl', 'wb') as f:\n",
    "    pickle.dump(raiting_checkout_pred_tree.best_estimator_, f)"
   ]
  },
  {
   "cell_type": "code",
   "execution_count": 189,
   "metadata": {},
   "outputs": [],
   "source": [
    "def dataset_preprocessor_for_raiting(raiting: list, pf: PolynomialFeatures, stdscaler = StandardScaler):\n",
    "    d = pd.DataFrame({'Rating': raiting, 'Reviews': np.ones(len(raiting)), 'Installs': np.ones(len(raiting))})\n",
    "    d = pd.DataFrame({'Rating': stdscaler.transform(d)[:, 0], 'help': np.ones(len(raiting))})\n",
    "    return pf.transform(d)"
   ]
  },
  {
   "cell_type": "code",
   "execution_count": 190,
   "metadata": {},
   "outputs": [
    {
     "data": {
      "text/plain": [
       "array([[1.000000e+00, 2.500000e-01, 1.000000e+00, 6.250000e-02,\n",
       "        2.500000e-01, 1.000000e+00, 1.562500e-02, 6.250000e-02,\n",
       "        2.500000e-01, 1.000000e+00, 3.906250e-03, 1.562500e-02,\n",
       "        6.250000e-02, 2.500000e-01, 1.000000e+00, 9.765625e-04,\n",
       "        3.906250e-03, 1.562500e-02, 6.250000e-02, 2.500000e-01,\n",
       "        1.000000e+00]])"
      ]
     },
     "execution_count": 190,
     "metadata": {},
     "output_type": "execute_result"
    }
   ],
   "source": [
    "dataset_preprocessor_for_raiting([2], pf, stdscaler)"
   ]
  },
  {
   "cell_type": "code",
   "execution_count": 191,
   "metadata": {},
   "outputs": [],
   "source": [
    "with open('models/raiting_check/dataset_preprocessor_for_raiting.pkl', 'wb') as f:\n",
    "    dill.dump(dataset_preprocessor_for_raiting, f)"
   ]
  }
 ],
 "metadata": {
  "kernelspec": {
   "display_name": "MoreTech",
   "language": "python",
   "name": "python3"
  },
  "language_info": {
   "codemirror_mode": {
    "name": "ipython",
    "version": 3
   },
   "file_extension": ".py",
   "mimetype": "text/x-python",
   "name": "python",
   "nbconvert_exporter": "python",
   "pygments_lexer": "ipython3",
   "version": "3.9.2"
  }
 },
 "nbformat": 4,
 "nbformat_minor": 2
}
