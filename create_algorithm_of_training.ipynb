{
 "cells": [
  {
   "cell_type": "code",
   "execution_count": 214,
   "metadata": {},
   "outputs": [],
   "source": [
    "import pickle\n",
    "import numpy as np\n",
    "import pandas as pd\n",
    "import scipy\n",
    "import dill\n",
    "import torch\n",
    "import torch.nn as nn\n",
    "import torch.optim as optim\n",
    "import torch.nn.functional as F"
   ]
  },
  {
   "cell_type": "markdown",
   "metadata": {},
   "source": [
    "# Создание быстрой модели"
   ]
  },
  {
   "cell_type": "code",
   "execution_count": 215,
   "metadata": {},
   "outputs": [],
   "source": [
    "class FastModel(torch.nn.Module):\n",
    "    def __init__(self, n_observations, n_actions):\n",
    "        super(FastModel, self).__init__()\n",
    "        self.layer1 = torch.nn.Linear(n_observations, n_observations*3)\n",
    "        self.layer2 = torch.nn.Linear(n_observations*3, int(n_observations*1))\n",
    "        self.layer3 = torch.nn.Linear(int(n_observations*1), n_actions)\n",
    "        \n",
    "    def forward(self, x):\n",
    "        x = torch.nn.functional.tanh(self.layer1(x))\n",
    "        x = torch.nn.functional.tanh(self.layer2(x))\n",
    "        return self.layer3(x)"
   ]
  },
  {
   "cell_type": "code",
   "execution_count": 216,
   "metadata": {},
   "outputs": [],
   "source": [
    "model = FastModel(11, 1)\n",
    "loss = torch.nn.MultiLabelSoftMarginLoss()\n",
    "optimizer = torch.optim.Adam(model.parameters(), lr=0.00001)"
   ]
  },
  {
   "cell_type": "markdown",
   "metadata": {},
   "source": [
    "# Мокнутый датасет"
   ]
  },
  {
   "cell_type": "code",
   "execution_count": 217,
   "metadata": {},
   "outputs": [],
   "source": [
    "data_customer_const_1 = torch.tensor([\n",
    "    [0, 25, 0, 0, 4, 1, 5, 5, 1, 5, 10],\n",
    "    [0, 25, 0, 0, 4, 1, 12, 5, 1, 5, 10],\n",
    "    [0, 25, 0, 0, 1, 1, 18, 5, 1, 5, 10],\n",
    "    [0, 25, 0, 0, 5, 1, 20, 5, 1, 5, 10],\n",
    "    [0, 25, 0, 0, 2, 1, 4, 5, 1, 5, 10],\n",
    "    [0, 25, 0, 0, 1, 1, 5, 5, 1, 5, 10],\n",
    "]).float()"
   ]
  },
  {
   "cell_type": "markdown",
   "metadata": {},
   "source": [
    "# Загрузка либ"
   ]
  },
  {
   "cell_type": "code",
   "execution_count": 218,
   "metadata": {},
   "outputs": [],
   "source": [
    "with open('./env_of_customer/Env.pkl', 'rb') as f:\n",
    "    Env = dill.load(f)"
   ]
  },
  {
   "cell_type": "code",
   "execution_count": 219,
   "metadata": {},
   "outputs": [],
   "source": [
    "with open('./env_of_customer/get_propability_of_walk_age.pkl', 'rb') as f:\n",
    "    get_propability_of_walk_age = dill.load(f)"
   ]
  },
  {
   "cell_type": "code",
   "execution_count": 220,
   "metadata": {},
   "outputs": [],
   "source": [
    "with open('./env_of_customer/get_propability_for_checkout_transport.pkl', 'rb') as f:\n",
    "    get_propability_for_checkout_transport = dill.load(f)"
   ]
  },
  {
   "cell_type": "code",
   "execution_count": 221,
   "metadata": {},
   "outputs": [],
   "source": [
    "with open('./env_of_customer/change_distance_by_transport.pkl', 'rb') as f:\n",
    "    change_distance_by_transport = dill.load(f)"
   ]
  },
  {
   "cell_type": "code",
   "execution_count": 222,
   "metadata": {},
   "outputs": [],
   "source": [
    "with open('models/raiting_check/raiting_checkout_pred_tree.pkl', 'rb') as f:\n",
    "    raiting_checkout_pred_tree = dill.load(f)"
   ]
  },
  {
   "cell_type": "code",
   "execution_count": 223,
   "metadata": {},
   "outputs": [],
   "source": [
    "with open('models/raiting_check/pf.pkl', 'rb') as f:\n",
    "    pf = dill.load(f)"
   ]
  },
  {
   "cell_type": "code",
   "execution_count": 224,
   "metadata": {},
   "outputs": [],
   "source": [
    "with open('models/raiting_check/dataset_preprocessor_for_raiting.pkl', 'rb') as f:\n",
    "    dataset_preprocessor_for_raiting = dill.load(f)"
   ]
  },
  {
   "cell_type": "code",
   "execution_count": 225,
   "metadata": {},
   "outputs": [],
   "source": [
    "with open('models/raiting_check/std_scaler_for_raiting.pkl', 'rb') as f:\n",
    "    std_scaler_for_raiting = dill.load(f)"
   ]
  },
  {
   "cell_type": "code",
   "execution_count": 226,
   "metadata": {},
   "outputs": [],
   "source": [
    "with open('./env_of_customer/from_vector_to_dict.pkl', 'rb') as f:\n",
    "    from_vector_to_dict = dill.load(f)"
   ]
  },
  {
   "cell_type": "markdown",
   "metadata": {},
   "source": [
    "# Инициализация среды"
   ]
  },
  {
   "cell_type": "code",
   "execution_count": 227,
   "metadata": {},
   "outputs": [],
   "source": [
    "env = Env(\n",
    "    get_propability_for_checkout_transport=get_propability_for_checkout_transport,\n",
    "    change_distance_by_transport=change_distance_by_transport,\n",
    "    get_propability_of_walk_age=get_propability_of_walk_age,\n",
    "    propability_of_checkout_branch_by_raiting=lambda a: raiting_checkout_pred_tree.predict(dataset_preprocessor_for_raiting([a], pf, std_scaler_for_raiting))*100\n",
    ")"
   ]
  },
  {
   "cell_type": "code",
   "execution_count": 228,
   "metadata": {},
   "outputs": [
    {
     "name": "stdout",
     "output_type": "stream",
     "text": [
      "0.023266403430070647\n",
      "0.02313088312692809\n",
      "0.0002919469489068935\n",
      "0.04660974459481412\n",
      "0.00029555194434059304\n",
      "0.00029537570537138967\n"
     ]
    }
   ],
   "source": [
    "for i in data_customer_const_1:\n",
    "    print(env.step(from_vector_to_dict(i.numpy())))"
   ]
  },
  {
   "cell_type": "markdown",
   "metadata": {},
   "source": [
    "# Обучение"
   ]
  },
  {
   "cell_type": "code",
   "execution_count": 229,
   "metadata": {},
   "outputs": [
    {
     "name": "stdout",
     "output_type": "stream",
     "text": [
      "Эпоха 1, Значение функции потерь: 0.9155105948448181\n",
      "Эпоха 2, Значение функции потерь: 0.9136586785316467\n",
      "Эпоха 3, Значение функции потерь: 0.9118034839630127\n",
      "Эпоха 4, Значение функции потерь: 0.9099489450454712\n",
      "Эпоха 5, Значение функции потерь: 0.9080963134765625\n",
      "Эпоха 6, Значение функции потерь: 0.9062464237213135\n",
      "Эпоха 7, Значение функции потерь: 0.9043991565704346\n",
      "Эпоха 8, Значение функции потерь: 0.9025550484657288\n",
      "Эпоха 9, Значение функции потерь: 0.9007139801979065\n",
      "Эпоха 10, Значение функции потерь: 0.8988760709762573\n",
      "Эпоха 11, Значение функции потерь: 0.8970410823822021\n",
      "Эпоха 12, Значение функции потерь: 0.8952091932296753\n",
      "Эпоха 13, Значение функции потерь: 0.8933804035186768\n",
      "Эпоха 14, Значение функции потерь: 0.8915547728538513\n",
      "Эпоха 15, Значение функции потерь: 0.8897320628166199\n",
      "Эпоха 16, Значение функции потерь: 0.8879123330116272\n",
      "Эпоха 17, Значение функции потерь: 0.8860957026481628\n",
      "Эпоха 18, Значение функции потерь: 0.8842821717262268\n",
      "Эпоха 19, Значение функции потерь: 0.8824713826179504\n",
      "Эпоха 20, Значение функции потерь: 0.8806638121604919\n",
      "Эпоха 21, Значение функции потерь: 0.8788591027259827\n",
      "Эпоха 22, Значение функции потерь: 0.8770573735237122\n",
      "Эпоха 23, Значение функции потерь: 0.8752586245536804\n",
      "Эпоха 24, Значение функции потерь: 0.873462975025177\n",
      "Эпоха 25, Значение функции потерь: 0.871670126914978\n",
      "Эпоха 26, Значение функции потерь: 0.8698803186416626\n",
      "Эпоха 27, Значение функции потерь: 0.8680933713912964\n",
      "Эпоха 28, Значение функции потерь: 0.8663095235824585\n",
      "Эпоха 29, Значение функции потерь: 0.8645287156105042\n",
      "Эпоха 30, Значение функции потерь: 0.8627506494522095\n",
      "Эпоха 31, Значение функции потерь: 0.8609757423400879\n",
      "Эпоха 32, Значение функции потерь: 0.859203577041626\n",
      "Эпоха 33, Значение функции потерь: 0.8574345111846924\n",
      "Эпоха 34, Значение функции потерь: 0.8556683659553528\n",
      "Эпоха 35, Значение функции потерь: 0.8539050817489624\n",
      "Эпоха 36, Значение функции потерь: 0.8521447777748108\n",
      "Эпоха 37, Значение функции потерь: 0.850387454032898\n",
      "Эпоха 38, Значение функции потерь: 0.8486330509185791\n",
      "Эпоха 39, Значение функции потерь: 0.8468814492225647\n",
      "Эпоха 40, Значение функции потерь: 0.8451328873634338\n",
      "Эпоха 41, Значение функции потерь: 0.8433873057365417\n",
      "Эпоха 42, Значение функции потерь: 0.8416446447372437\n",
      "Эпоха 43, Значение функции потерь: 0.8399050235748291\n"
     ]
    },
    {
     "name": "stdout",
     "output_type": "stream",
     "text": [
      "Эпоха 44, Значение функции потерь: 0.838168203830719\n",
      "Эпоха 45, Значение функции потерь: 0.8364344239234924\n",
      "Эпоха 46, Значение функции потерь: 0.8347035050392151\n",
      "Эпоха 47, Значение функции потерь: 0.8329755067825317\n",
      "Эпоха 48, Значение функции потерь: 0.8312504887580872\n",
      "Эпоха 49, Значение функции потерь: 0.8295283317565918\n",
      "Эпоха 50, Значение функции потерь: 0.82780921459198\n"
     ]
    }
   ],
   "source": [
    "epochs = 50\n",
    "for epoch in range(epochs):\n",
    "    for x_b in data_customer_const_1:\n",
    "        outputs = model(x_b)\n",
    "        s = env.step(from_vector_to_dict(x_b.numpy()))\n",
    "        # print(s)\n",
    "        loss_value = loss(outputs, s)\n",
    "        loss_value.backward()\n",
    "        optimizer.step()\n",
    "        optimizer.zero_grad()\n",
    "    print(f'Эпоха {epoch + 1}, Значение функции потерь: {loss_value.item()}')"
   ]
  },
  {
   "cell_type": "markdown",
   "metadata": {},
   "source": [
    "# Создание функции"
   ]
  },
  {
   "cell_type": "code",
   "execution_count": 230,
   "metadata": {},
   "outputs": [],
   "source": [
    "def model_pred(model: torch.nn.Module, loss, data, from_vector_to_dict: callable, env, epochs = 50):\n",
    "    for _ in range(epochs):\n",
    "        for x_b in data[torch.randperm(data_customer_const_1.shape[0])]:\n",
    "            outputs = model(x_b)\n",
    "            s = env.step(from_vector_to_dict(x_b.numpy()))\n",
    "            loss_value = loss(outputs, 2**s)\n",
    "            loss_value.backward()\n",
    "            optimizer.step()\n",
    "            optimizer.zero_grad()\n",
    "    return model(data).detach().numpy()\n"
   ]
  },
  {
   "cell_type": "code",
   "execution_count": 231,
   "metadata": {},
   "outputs": [],
   "source": [
    "model = FastModel(11, 1)\n",
    "loss = torch.nn.MultiLabelSoftMarginLoss()\n",
    "optimizer = torch.optim.Adam(model.parameters(), lr=0.00001)"
   ]
  },
  {
   "cell_type": "code",
   "execution_count": 232,
   "metadata": {},
   "outputs": [
    {
     "data": {
      "text/plain": [
       "array([[0.49489063],\n",
       "       [0.48713627],\n",
       "       [0.52523243],\n",
       "       [0.52775073],\n",
       "       [0.49299124],\n",
       "       [0.49064422]], dtype=float32)"
      ]
     },
     "execution_count": 232,
     "metadata": {},
     "output_type": "execute_result"
    }
   ],
   "source": [
    "model_pred(\n",
    "    model=model,\n",
    "    loss=loss,\n",
    "    data=data_customer_const_1,\n",
    "    from_vector_to_dict=from_vector_to_dict,\n",
    "    env=env,\n",
    ")"
   ]
  },
  {
   "cell_type": "code",
   "execution_count": 233,
   "metadata": {},
   "outputs": [
    {
     "data": {
      "text/plain": [
       "tensor([ 0., 25.,  0.,  0.,  5.,  1., 20.,  5.,  1.,  5., 10.])"
      ]
     },
     "execution_count": 233,
     "metadata": {},
     "output_type": "execute_result"
    }
   ],
   "source": [
    "data_customer_const_1[3]"
   ]
  },
  {
   "cell_type": "markdown",
   "metadata": {},
   "source": [
    "# Save"
   ]
  },
  {
   "cell_type": "code",
   "execution_count": 234,
   "metadata": {},
   "outputs": [],
   "source": [
    "torch.save(FastModel(11, 1), './NNmodel/tensor.pt')"
   ]
  },
  {
   "cell_type": "code",
   "execution_count": 235,
   "metadata": {},
   "outputs": [],
   "source": [
    "with open('./NNmodel/model.pkl', 'wb') as f:\n",
    "    dill.dump(FastModel(11, 1), f)"
   ]
  },
  {
   "cell_type": "code",
   "execution_count": 236,
   "metadata": {},
   "outputs": [],
   "source": [
    "with open('./NNmodel/model_pred.pkl', 'wb') as f:\n",
    "    dill.dump(model_pred, f)"
   ]
  }
 ],
 "metadata": {
  "kernelspec": {
   "display_name": "MoreTech",
   "language": "python",
   "name": "python3"
  },
  "language_info": {
   "codemirror_mode": {
    "name": "ipython",
    "version": 3
   },
   "file_extension": ".py",
   "mimetype": "text/x-python",
   "name": "python",
   "nbconvert_exporter": "python",
   "pygments_lexer": "ipython3",
   "version": "3.9.2"
  }
 },
 "nbformat": 4,
 "nbformat_minor": 2
}
