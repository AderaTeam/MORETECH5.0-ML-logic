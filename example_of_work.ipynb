{
 "cells": [
  {
   "cell_type": "code",
   "execution_count": 23,
   "metadata": {},
   "outputs": [],
   "source": [
    "import numpy as np\n",
    "import pandas as pd\n",
    "import scipy\n",
    "import dill\n",
    "import torch"
   ]
  },
  {
   "cell_type": "code",
   "execution_count": 24,
   "metadata": {},
   "outputs": [],
   "source": [
    "data_customer_const_1 = torch.tensor([\n",
    "    [0, 25, 0, 0, 4, 1, 5, 5, 1, 5, 10],\n",
    "    [0, 25, 0, 0, 4, 1, 12, 5, 1, 5, 10],\n",
    "    [0, 25, 0, 0, 1, 1, 18, 5, 1, 5, 10],\n",
    "    [0, 25, 0, 0, 5, 1, 20, 5, 1, 5, 10],\n",
    "    [0, 25, 0, 0, 2, 1, 4, 5, 1, 5, 10],\n",
    "    [0, 25, 0, 0, 1, 1, 5, 5, 1, 5, 10],\n",
    "]).float()"
   ]
  },
  {
   "cell_type": "code",
   "execution_count": 25,
   "metadata": {},
   "outputs": [],
   "source": [
    "with open('./env_of_customer/Env.pkl', 'rb') as f:\n",
    "    Env = dill.load(f)"
   ]
  },
  {
   "cell_type": "code",
   "execution_count": 26,
   "metadata": {},
   "outputs": [],
   "source": [
    "with open('./env_of_customer/get_propability_of_walk_age.pkl', 'rb') as f:\n",
    "    get_propability_of_walk_age = dill.load(f)"
   ]
  },
  {
   "cell_type": "code",
   "execution_count": 27,
   "metadata": {},
   "outputs": [],
   "source": [
    "with open('./env_of_customer/get_propability_for_checkout_transport.pkl', 'rb') as f:\n",
    "    get_propability_for_checkout_transport = dill.load(f)"
   ]
  },
  {
   "cell_type": "code",
   "execution_count": 28,
   "metadata": {},
   "outputs": [],
   "source": [
    "with open('./env_of_customer/change_distance_by_transport.pkl', 'rb') as f:\n",
    "    change_distance_by_transport = dill.load(f)"
   ]
  },
  {
   "cell_type": "code",
   "execution_count": 29,
   "metadata": {},
   "outputs": [],
   "source": [
    "with open('models/raiting_check/raiting_checkout_pred_tree.pkl', 'rb') as f:\n",
    "    raiting_checkout_pred_tree = dill.load(f)"
   ]
  },
  {
   "cell_type": "code",
   "execution_count": 30,
   "metadata": {},
   "outputs": [],
   "source": [
    "with open('models/raiting_check/pf.pkl', 'rb') as f:\n",
    "    pf = dill.load(f)"
   ]
  },
  {
   "cell_type": "code",
   "execution_count": 31,
   "metadata": {},
   "outputs": [],
   "source": [
    "with open('models/raiting_check/dataset_preprocessor_for_raiting.pkl', 'rb') as f:\n",
    "    dataset_preprocessor_for_raiting = dill.load(f)"
   ]
  },
  {
   "cell_type": "code",
   "execution_count": 32,
   "metadata": {},
   "outputs": [],
   "source": [
    "with open('models/raiting_check/std_scaler_for_raiting.pkl', 'rb') as f:\n",
    "    std_scaler_for_raiting = dill.load(f)"
   ]
  },
  {
   "cell_type": "code",
   "execution_count": 33,
   "metadata": {},
   "outputs": [],
   "source": [
    "with open('./env_of_customer/from_vector_to_dict.pkl', 'rb') as f:\n",
    "    from_vector_to_dict = dill.load(f)"
   ]
  },
  {
   "cell_type": "code",
   "execution_count": 34,
   "metadata": {},
   "outputs": [],
   "source": [
    "with open('./NNmodel/model_pred.pkl', 'rb') as f:\n",
    "    model_pred = dill.load(f)"
   ]
  },
  {
   "cell_type": "code",
   "execution_count": 35,
   "metadata": {},
   "outputs": [],
   "source": [
    "with open('./NNmodel/model.pkl', 'rb') as f:\n",
    "    model= dill.load(f)"
   ]
  },
  {
   "cell_type": "code",
   "execution_count": 37,
   "metadata": {},
   "outputs": [],
   "source": [
    "env = Env(\n",
    "    get_propability_for_checkout_transport=get_propability_for_checkout_transport,\n",
    "    change_distance_by_transport=change_distance_by_transport,\n",
    "    get_propability_of_walk_age=get_propability_of_walk_age,\n",
    "    propability_of_checkout_branch_by_raiting=lambda a: raiting_checkout_pred_tree.predict(dataset_preprocessor_for_raiting([a], pf, std_scaler_for_raiting))*100\n",
    ")"
   ]
  },
  {
   "cell_type": "code",
   "execution_count": 38,
   "metadata": {},
   "outputs": [],
   "source": [
    "loss = torch.nn.MultiLabelSoftMarginLoss()\n",
    "optimizer = torch.optim.Adam(model.parameters(), lr=0.00001)"
   ]
  },
  {
   "cell_type": "code",
   "execution_count": 39,
   "metadata": {},
   "outputs": [
    {
     "data": {
      "text/plain": [
       "array([[0.8217658 ],\n",
       "       [0.9353709 ],\n",
       "       [0.99205744],\n",
       "       [1.038203  ],\n",
       "       [0.81472504],\n",
       "       [0.84283453]], dtype=float32)"
      ]
     },
     "execution_count": 39,
     "metadata": {},
     "output_type": "execute_result"
    }
   ],
   "source": [
    "model_pred(\n",
    "    model=model,\n",
    "    loss=loss,\n",
    "    data=data_customer_const_1,\n",
    "    from_vector_to_dict=from_vector_to_dict,\n",
    "    env=env,\n",
    ")"
   ]
  }
 ],
 "metadata": {
  "kernelspec": {
   "display_name": "MoreTech",
   "language": "python",
   "name": "python3"
  },
  "language_info": {
   "codemirror_mode": {
    "name": "ipython",
    "version": 3
   },
   "file_extension": ".py",
   "mimetype": "text/x-python",
   "name": "python",
   "nbconvert_exporter": "python",
   "pygments_lexer": "ipython3",
   "version": "3.9.2"
  }
 },
 "nbformat": 4,
 "nbformat_minor": 2
}
