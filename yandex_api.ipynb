{
 "cells": [
  {
   "cell_type": "code",
   "execution_count": 1,
   "metadata": {},
   "outputs": [],
   "source": [
    "import numpy as np\n",
    "from requests import get, Response, Request\n",
    "import pickle\n",
    "import json\n",
    "from bs4 import BeautifulSoup\n"
   ]
  },
  {
   "cell_type": "markdown",
   "metadata": {},
   "source": [
    "# Ф-ция для получения обьектов типа text окрестности места по его координатам."
   ]
  },
  {
   "cell_type": "code",
   "execution_count": 2,
   "metadata": {},
   "outputs": [],
   "source": [
    "def get_ambit_of_place(\n",
    "    text: str,\n",
    "    place_x: str,\n",
    "    place_y: str,\n",
    "    ambit_x: str,\n",
    "    ambit_y: str,\n",
    "    api_key: str\n",
    ") -> Response:\n",
    "    return get(\n",
    "        f'https://search-maps.yandex.ru/v1/?text={text}&type=biz&lang=ru_RU&apikey={api_key}&ll={place_x},{place_y}&spn={ambit_x},{ambit_y}'\n",
    "    )"
   ]
  },
  {
   "cell_type": "code",
   "execution_count": 3,
   "metadata": {},
   "outputs": [
    {
     "name": "stdout",
     "output_type": "stream",
     "text": [
      "{'type': 'FeatureCollection', 'properties': {'ResponseMetaData': {'SearchResponse': {'found': 46, 'display': 'multiple', 'boundedBy': [[73.28165631, 54.93438107], [73.57822798, 55.07582233]]}, 'SearchRequest': {'request': 'остановка', 'skip': 0, 'results': 10, 'boundedBy': [[73.0928245, 54.79081604], [73.6448935, 55.19136806]]}}}, 'features': [{'type': 'Feature', 'geometry': {'type': 'Point', 'coordinates': [73.356299, 54.997037]}, 'properties': {'name': 'Улица Рабиновича', 'description': 'ул. Красный Путь, 65/6, Омск, Россия', 'boundedBy': [[73.352285, 54.994594], [73.360495, 54.999315]], 'uri': 'ymapsbm1://org?oid=243205305819', 'CompanyMetaData': {'id': '243205305819', 'name': 'Улица Рабиновича', 'address': 'Омск, улица Красный Путь, 65/6', 'Categories': [{'class': 'bus stop', 'name': 'Остановка общественного транспорта'}]}}}, {'type': 'Feature', 'geometry': {'type': 'Point', 'coordinates': [73.371211, 54.991251]}, 'properties': {'name': 'Главпочтамт', 'description': 'Интернациональная ул., 41, корп. 5, Омск, Россия', 'boundedBy': [[73.366945, 54.988934], [73.375156, 54.993654]], 'uri': 'ymapsbm1://org?oid=226422705192', 'CompanyMetaData': {'id': '226422705192', 'name': 'Главпочтамт', 'address': 'Омск, Интернациональная улица, 41, корп. 5', 'Categories': [{'class': 'bus stop', 'name': 'Остановка общественного транспорта'}]}}}, {'type': 'Feature', 'geometry': {'type': 'Point', 'coordinates': [73.306815, 54.988107]}, 'properties': {'name': 'Поворотная', 'description': 'ул. 70 лет Октября, 6/4, Омск, Россия', 'boundedBy': [[73.302833, 54.985746], [73.311043, 54.990468]], 'uri': 'ymapsbm1://org?oid=185849410077', 'CompanyMetaData': {'id': '185849410077', 'name': 'Поворотная', 'address': 'Омск, улица 70 лет Октября, 6/4', 'Categories': [{'class': 'bus stop', 'name': 'Остановка общественного транспорта'}]}}}, {'type': 'Feature', 'geometry': {'type': 'Point', 'coordinates': [73.377516, 54.986284]}, 'properties': {'name': 'Дом туриста', 'description': 'Омск, улица Гагарина', 'boundedBy': [[73.373332, 54.982667], [73.380447, 54.990871]], 'uri': 'ymapsbm1://org?oid=112532526173', 'CompanyMetaData': {'id': '112532526173', 'name': 'Дом туриста', 'address': 'Омск, улица Гагарина', 'Categories': [{'class': 'bus stop', 'name': 'Остановка общественного транспорта'}]}}}, {'type': 'Feature', 'geometry': {'type': 'Point', 'coordinates': [73.374511, 54.989298]}, 'properties': {'name': 'Госпиталь', 'description': 'Омск, улица Гагарина', 'boundedBy': [[73.373332, 54.982667], [73.380447, 54.990871]], 'uri': 'ymapsbm1://org?oid=94626837853', 'CompanyMetaData': {'id': '94626837853', 'name': 'Госпиталь', 'address': 'Омск, улица Гагарина', 'Categories': [{'class': 'bus stop', 'name': 'Остановка общественного транспорта'}]}}}, {'type': 'Feature', 'geometry': {'type': 'Point', 'coordinates': [73.372516, 54.993781]}, 'properties': {'name': 'ТК Флагман', 'description': 'Омск, улица Герцена', 'boundedBy': [[73.371904, 54.990137], [73.377626, 55.035147]], 'uri': 'ymapsbm1://org?oid=65168192279', 'CompanyMetaData': {'id': '65168192279', 'name': 'ТК Флагман', 'address': 'Омск, улица Герцена', 'Categories': [{'class': 'bus stop', 'name': 'Остановка общественного транспорта'}]}}}, {'type': 'Feature', 'geometry': {'type': 'Point', 'coordinates': [73.394218, 54.971386]}, 'properties': {'name': 'Степная улица', 'description': 'Омск, улица Маяковского', 'boundedBy': [[73.379683, 54.970236], [73.411951, 54.972318]], 'uri': 'ymapsbm1://org?oid=235954575050', 'CompanyMetaData': {'id': '235954575050', 'name': 'Степная улица', 'address': 'Омск, улица Маяковского', 'Categories': [{'class': 'bus stop', 'name': 'Остановка общественного транспорта'}]}}}, {'type': 'Feature', 'geometry': {'type': 'Point', 'coordinates': [73.372073, 54.989715]}, 'properties': {'name': 'Площадь Победы', 'description': 'Омск, Центральный округ', 'boundedBy': [[73.335073, 54.954755], [73.578202, 55.075793]], 'uri': 'ymapsbm1://org?oid=119744300674', 'CompanyMetaData': {'id': '119744300674', 'name': 'Площадь Победы', 'address': 'Омск, Центральный округ', 'Categories': [{'class': 'bus stop', 'name': 'Остановка общественного транспорта'}]}}}, {'type': 'Feature', 'geometry': {'type': 'Point', 'coordinates': [73.372109, 54.994024]}, 'properties': {'name': 'Улица Фрунзе', 'description': 'ул. Герцена, 19А, Омск, Россия', 'boundedBy': [[73.368023, 54.991733], [73.376234, 54.996454]], 'uri': 'ymapsbm1://org?oid=46622702249', 'CompanyMetaData': {'id': '46622702249', 'name': 'Улица Фрунзе', 'address': 'Омск, улица Герцена, 19А', 'Categories': [{'class': 'bus stop', 'name': 'Остановка общественного транспорта'}]}}}, {'type': 'Feature', 'geometry': {'type': 'Point', 'coordinates': [73.380665, 54.981267]}, 'properties': {'name': 'Площадь Ленина', 'description': 'просп. Карла Маркса, 1, Омск, Россия', 'boundedBy': [[73.37671, 54.978901], [73.384921, 54.983623]], 'uri': 'ymapsbm1://org?oid=94119588856', 'CompanyMetaData': {'id': '94119588856', 'name': 'Площадь Ленина', 'address': 'Омск, проспект Карла Маркса, 1', 'Categories': [{'class': 'bus stop', 'name': 'Остановка общественного транспорта'}]}}}]}\n"
     ]
    }
   ],
   "source": [
    "x = get_ambit_of_place(\n",
    "    text='остановка',\n",
    "    api_key='246f9164-7a6e-417b-8cc5-91fbf58767c6',\n",
    "    place_x=str(73.368859), \n",
    "    place_y=str(54.991594),\n",
    "    ambit_x=str(0.552069),\n",
    "    ambit_y=str(0.400552),\n",
    ")\n",
    "print(x.json())"
   ]
  },
  {
   "cell_type": "markdown",
   "metadata": {},
   "source": [
    "# Ф-ция для получения места по тексту."
   ]
  },
  {
   "cell_type": "code",
   "execution_count": 4,
   "metadata": {},
   "outputs": [],
   "source": [
    "def get_place(\n",
    "    text: str,\n",
    "    api_key: str\n",
    ") -> Response:\n",
    "    return get(\n",
    "        f'https://search-maps.yandex.ru/v1/?text={text}&type=biz&lang=ru_RU&apikey={api_key}'\n",
    "    )"
   ]
  },
  {
   "cell_type": "markdown",
   "metadata": {},
   "source": [
    "# Ф-ция для получения обьектов из респонза окрестности"
   ]
  },
  {
   "cell_type": "code",
   "execution_count": 5,
   "metadata": {},
   "outputs": [],
   "source": [
    "def get_objects_from_ambit_response(r: Response) -> dict:\n",
    "    return x.json()['features']"
   ]
  },
  {
   "cell_type": "code",
   "execution_count": 6,
   "metadata": {},
   "outputs": [
    {
     "name": "stdout",
     "output_type": "stream",
     "text": [
      "[{'type': 'Feature', 'geometry': {'type': 'Point', 'coordinates': [73.356299, 54.997037]}, 'properties': {'name': 'Улица Рабиновича', 'description': 'ул. Красный Путь, 65/6, Омск, Россия', 'boundedBy': [[73.352285, 54.994594], [73.360495, 54.999315]], 'uri': 'ymapsbm1://org?oid=243205305819', 'CompanyMetaData': {'id': '243205305819', 'name': 'Улица Рабиновича', 'address': 'Омск, улица Красный Путь, 65/6', 'Categories': [{'class': 'bus stop', 'name': 'Остановка общественного транспорта'}]}}}, {'type': 'Feature', 'geometry': {'type': 'Point', 'coordinates': [73.371211, 54.991251]}, 'properties': {'name': 'Главпочтамт', 'description': 'Интернациональная ул., 41, корп. 5, Омск, Россия', 'boundedBy': [[73.366945, 54.988934], [73.375156, 54.993654]], 'uri': 'ymapsbm1://org?oid=226422705192', 'CompanyMetaData': {'id': '226422705192', 'name': 'Главпочтамт', 'address': 'Омск, Интернациональная улица, 41, корп. 5', 'Categories': [{'class': 'bus stop', 'name': 'Остановка общественного транспорта'}]}}}, {'type': 'Feature', 'geometry': {'type': 'Point', 'coordinates': [73.306815, 54.988107]}, 'properties': {'name': 'Поворотная', 'description': 'ул. 70 лет Октября, 6/4, Омск, Россия', 'boundedBy': [[73.302833, 54.985746], [73.311043, 54.990468]], 'uri': 'ymapsbm1://org?oid=185849410077', 'CompanyMetaData': {'id': '185849410077', 'name': 'Поворотная', 'address': 'Омск, улица 70 лет Октября, 6/4', 'Categories': [{'class': 'bus stop', 'name': 'Остановка общественного транспорта'}]}}}, {'type': 'Feature', 'geometry': {'type': 'Point', 'coordinates': [73.377516, 54.986284]}, 'properties': {'name': 'Дом туриста', 'description': 'Омск, улица Гагарина', 'boundedBy': [[73.373332, 54.982667], [73.380447, 54.990871]], 'uri': 'ymapsbm1://org?oid=112532526173', 'CompanyMetaData': {'id': '112532526173', 'name': 'Дом туриста', 'address': 'Омск, улица Гагарина', 'Categories': [{'class': 'bus stop', 'name': 'Остановка общественного транспорта'}]}}}, {'type': 'Feature', 'geometry': {'type': 'Point', 'coordinates': [73.374511, 54.989298]}, 'properties': {'name': 'Госпиталь', 'description': 'Омск, улица Гагарина', 'boundedBy': [[73.373332, 54.982667], [73.380447, 54.990871]], 'uri': 'ymapsbm1://org?oid=94626837853', 'CompanyMetaData': {'id': '94626837853', 'name': 'Госпиталь', 'address': 'Омск, улица Гагарина', 'Categories': [{'class': 'bus stop', 'name': 'Остановка общественного транспорта'}]}}}, {'type': 'Feature', 'geometry': {'type': 'Point', 'coordinates': [73.372516, 54.993781]}, 'properties': {'name': 'ТК Флагман', 'description': 'Омск, улица Герцена', 'boundedBy': [[73.371904, 54.990137], [73.377626, 55.035147]], 'uri': 'ymapsbm1://org?oid=65168192279', 'CompanyMetaData': {'id': '65168192279', 'name': 'ТК Флагман', 'address': 'Омск, улица Герцена', 'Categories': [{'class': 'bus stop', 'name': 'Остановка общественного транспорта'}]}}}, {'type': 'Feature', 'geometry': {'type': 'Point', 'coordinates': [73.394218, 54.971386]}, 'properties': {'name': 'Степная улица', 'description': 'Омск, улица Маяковского', 'boundedBy': [[73.379683, 54.970236], [73.411951, 54.972318]], 'uri': 'ymapsbm1://org?oid=235954575050', 'CompanyMetaData': {'id': '235954575050', 'name': 'Степная улица', 'address': 'Омск, улица Маяковского', 'Categories': [{'class': 'bus stop', 'name': 'Остановка общественного транспорта'}]}}}, {'type': 'Feature', 'geometry': {'type': 'Point', 'coordinates': [73.372073, 54.989715]}, 'properties': {'name': 'Площадь Победы', 'description': 'Омск, Центральный округ', 'boundedBy': [[73.335073, 54.954755], [73.578202, 55.075793]], 'uri': 'ymapsbm1://org?oid=119744300674', 'CompanyMetaData': {'id': '119744300674', 'name': 'Площадь Победы', 'address': 'Омск, Центральный округ', 'Categories': [{'class': 'bus stop', 'name': 'Остановка общественного транспорта'}]}}}, {'type': 'Feature', 'geometry': {'type': 'Point', 'coordinates': [73.372109, 54.994024]}, 'properties': {'name': 'Улица Фрунзе', 'description': 'ул. Герцена, 19А, Омск, Россия', 'boundedBy': [[73.368023, 54.991733], [73.376234, 54.996454]], 'uri': 'ymapsbm1://org?oid=46622702249', 'CompanyMetaData': {'id': '46622702249', 'name': 'Улица Фрунзе', 'address': 'Омск, улица Герцена, 19А', 'Categories': [{'class': 'bus stop', 'name': 'Остановка общественного транспорта'}]}}}, {'type': 'Feature', 'geometry': {'type': 'Point', 'coordinates': [73.380665, 54.981267]}, 'properties': {'name': 'Площадь Ленина', 'description': 'просп. Карла Маркса, 1, Омск, Россия', 'boundedBy': [[73.37671, 54.978901], [73.384921, 54.983623]], 'uri': 'ymapsbm1://org?oid=94119588856', 'CompanyMetaData': {'id': '94119588856', 'name': 'Площадь Ленина', 'address': 'Омск, проспект Карла Маркса, 1', 'Categories': [{'class': 'bus stop', 'name': 'Остановка общественного транспорта'}]}}}]\n"
     ]
    }
   ],
   "source": [
    "print(get_objects_from_ambit_response(\n",
    "    get_ambit_of_place(\n",
    "        text='остановка',\n",
    "        api_key='246f9164-7a6e-417b-8cc5-91fbf58767c6',\n",
    "        place_x=str(73.368859), \n",
    "        place_y=str(54.991594),\n",
    "        ambit_x=str(0.552069),\n",
    "        ambit_y=str(0.400552),\n",
    "    )\n",
    "))"
   ]
  },
  {
   "cell_type": "markdown",
   "metadata": {},
   "source": [
    "# Фция для получения рейтинга обьектов"
   ]
  },
  {
   "cell_type": "markdown",
   "metadata": {},
   "source": [
    "<meta name=\"description\" content=\"Виджеты и бейджы отызвов\">\n",
    "\n",
    "<iframe src=\"https://yandex.ru/sprav/widget/rating-badge/1671141286\" width=\"150\" height=\"50\" frameborder=\"0\"></iframe>\n",
    "\n",
    "<iframe style=\"width:200px;height:150px;border:1px solid #e6e6e6;border-radius:8px;box-sizing:border-box\" src=\"https://yandex.ru/maps-reviews-widget/1671141286/?size=m\"></iframe>\n",
    "\n",
    "<div style=\"width:350px;height:600px;overflow:hidden;position:relative;\"><iframe style=\"width:100%;height:100%;border:1px solid #e6e6e6;border-radius:8px;box-sizing:border-box\" src=\"https://yandex.ru/maps-reviews-widget/1671141286?comments\"></iframe><a href=\"https://yandex.ru/maps/org/ashan_siti/1671141286/\" target=\"_blank\" style=\"box-sizing:border-box;text-decoration:none;color:#b3b3b3;font-size:10px;font-family:YS Text,sans-serif;padding:0 20px;position:absolute;bottom:8px;width:100%;text-align:center;left:0;overflow:hidden;text-overflow:ellipsis;display:block;max-height:14px;white-space:nowrap;padding:0 16px;box-sizing:border-box\">Ашан Сити на карте Орехово‑Зуево — ЯндексКарты</a></div>"
   ]
  },
  {
   "cell_type": "code",
   "execution_count": 106,
   "metadata": {},
   "outputs": [],
   "source": [
    "# url = 'https://yandex.ru/maps-reviews-widget/1536072666/?size=m'\n",
    "url = 'https://yandex.ru/sprav/widget/rating-badge/1919562747'\n",
    "# url = 'http://yandex.ru/maps/org/1536072666/reviews?utm_source=badge&utm_medium=rating&utm_campaign=v1'\n"
   ]
  },
  {
   "cell_type": "code",
   "execution_count": 107,
   "metadata": {},
   "outputs": [],
   "source": [
    "res = get(url).content.decode('utf-8')"
   ]
  },
  {
   "cell_type": "code",
   "execution_count": 108,
   "metadata": {},
   "outputs": [
    {
     "data": {
      "text/plain": [
       "'        <!DOCTYPE html>        <html>        <head>            <meta charset=\"utf-8\">            <meta                name=\"viewport\"                content=\"width=device-width, initial-scale=1, shrink-to-fit=no, maximum-scale=1, user-scalable=no\"            >            <title>Rating</title>            <style>                html, body {                    width: min-content;                    min-width: unset;                    max-width: unset;                    height: min-content;                    min-height: unset;                    max-height: unset;                    margin: 0;                                        background-color: unset;                }                                .RatingBadgeWidget {                    display: block;                                    width: 150px;                    height: 50px;                                    background-repeat: no-repeat;                    background-position: center;                    background-size: 100%;                }            </style>        </head>        <body>            <a                class=\"RatingBadgeWidget\"                target=\"_blank\"                href=\"//yandex.ru/maps/org/1919562747/reviews?utm_source=badge&utm_medium=rating&utm_campaign=v1\"                style=\"background-image:url(https://avatars.mds.yandex.net/get-altay/7740052/badge_rating_light_3.5/orig)\"            ></a>        </body>        </html>'"
      ]
     },
     "execution_count": 108,
     "metadata": {},
     "output_type": "execute_result"
    }
   ],
   "source": [
    "res.replace('\\n', '')"
   ]
  },
  {
   "cell_type": "markdown",
   "metadata": {},
   "source": [
    " <!DOCTYPE html>        <html>        <head>            <meta charset=\"utf-8\">            <meta                name=\"viewport\"                content=\"width=device-width, initial-scale=1, shrink-to-fit=no, maximum-scale=1, user-scalable=no\"            >            <title>Rating</title>            <style>                html, body {                    width: min-content;                    min-width: unset;                    max-width: unset;                    height: min-content;                    min-height: unset;                    max-height: unset;                    margin: 0;                                        background-color: unset;                }                                .RatingBadgeWidget {                    display: block;                                    width: 150px;                    height: 50px;                                    background-repeat: no-repeat;                    background-position: center;                    background-size: 100%;                }            </style>        </head>        <body>            <a                class=\"RatingBadgeWidget\"                target=\"_blank\"                href=\"//yandex.ru/maps/org/1536072666/reviews?utm_source=badge&utm_medium=rating&utm_campaign=v1\"                style=\"background-image:url(https://avatars.mds.yandex.net/get-altay/2809325/badge_rating_light_4.2/orig)\"            ></a>        </body>        </html>"
   ]
  },
  {
   "cell_type": "code",
   "execution_count": 112,
   "metadata": {},
   "outputs": [
    {
     "data": {
      "text/plain": [
       "'3.5'"
      ]
     },
     "execution_count": 112,
     "metadata": {},
     "output_type": "execute_result"
    }
   ],
   "source": [
    "# BeautifulSoup(res).body.find('ul', {'class': 'stars-list'})\n",
    "BeautifulSoup(res).body.find('a', {'class': 'RatingBadgeWidget'}).attrs['style'].split('/')[-2].split('_')[-1]"
   ]
  },
  {
   "cell_type": "code",
   "execution_count": 118,
   "metadata": {},
   "outputs": [],
   "source": [
    "def get_rating_by_id(id) -> float:\n",
    "    url = f'https://yandex.ru/sprav/widget/rating-badge/{id}'\n",
    "    res = get(url).content.decode('utf-8')\n",
    "    rate = BeautifulSoup(res).body.find('a', {'class': 'RatingBadgeWidget'}).attrs['style'].split('/')[-2].split('_')[-1]\n",
    "    return float(rate)"
   ]
  },
  {
   "cell_type": "code",
   "execution_count": 120,
   "metadata": {},
   "outputs": [
    {
     "data": {
      "text/plain": [
       "3.5"
      ]
     },
     "execution_count": 120,
     "metadata": {},
     "output_type": "execute_result"
    }
   ],
   "source": [
    "get_rating_by_id(1919562747)"
   ]
  },
  {
   "cell_type": "markdown",
   "metadata": {},
   "source": []
  },
  {
   "cell_type": "markdown",
   "metadata": {},
   "source": [
    "# Save"
   ]
  },
  {
   "cell_type": "code",
   "execution_count": 7,
   "metadata": {},
   "outputs": [],
   "source": [
    "import dill"
   ]
  },
  {
   "cell_type": "code",
   "execution_count": 8,
   "metadata": {},
   "outputs": [],
   "source": [
    "with open('./functions/get_ambit_of_place.pkl', 'wb') as f:\n",
    "    dill.dump(get_ambit_of_place, f)\n"
   ]
  },
  {
   "cell_type": "code",
   "execution_count": 9,
   "metadata": {},
   "outputs": [],
   "source": [
    "with open('./functions/get_place.pkl', 'wb') as f:\n",
    "    dill.dump(get_place, f)\n"
   ]
  },
  {
   "cell_type": "code",
   "execution_count": 121,
   "metadata": {},
   "outputs": [],
   "source": [
    "with open('./functions/get_rating_by_id.pkl', 'wb') as f:\n",
    "    dill.dump(get_rating_by_id, f)\n"
   ]
  }
 ],
 "metadata": {
  "kernelspec": {
   "display_name": "MoreTech",
   "language": "python",
   "name": "python3"
  },
  "language_info": {
   "codemirror_mode": {
    "name": "ipython",
    "version": 3
   },
   "file_extension": ".py",
   "mimetype": "text/x-python",
   "name": "python",
   "nbconvert_exporter": "python",
   "pygments_lexer": "ipython3",
   "version": "3.9.2"
  }
 },
 "nbformat": 4,
 "nbformat_minor": 2
}
